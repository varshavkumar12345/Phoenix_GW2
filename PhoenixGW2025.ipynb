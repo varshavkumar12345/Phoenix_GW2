{
 "cells": [
  {
   "cell_type": "code",
   "execution_count": 25,
   "id": "dc40064d-89c0-4c6d-b502-2923006e9578",
   "metadata": {},
   "outputs": [
    {
     "name": "stdout",
     "output_type": "stream",
     "text": [
      "\n",
      "🔎 Score: 0/100\n",
      "📝 Reason: \"Hannah Montana\" is a fictional character from the Disney Channel television series of the same name, portrayed by actress Miley Cyrus. The claim that \"Hannah Montana is a real person\" is false.\n"
     ]
    }
   ],
   "source": [
    "import requests\n",
    "import re\n",
    "\n",
    "MISTRAL_API_KEY = \"e6ojRsfwNwYFzpVQjpHtX8YavnOrIjcI\"\n",
    "MODEL = \"mistral-small-latest\"\n",
    "API_URL = \"https://api.mistral.ai/v1/chat/completions\"\n",
    "\n",
    "headers = {\n",
    "    \"Authorization\": f\"Bearer {MISTRAL_API_KEY}\",\n",
    "    \"Content-Type\": \"application/json\"\n",
    "}\n",
    "\n",
    "def check_credibility(text):\n",
    "    prompt = f\"\"\"\n",
    "You are a misinformation detection expert.\n",
    "\n",
    "Analyze the following online content for credibility:\n",
    "\\\"\\\"\\\"{text}\\\"\\\"\\\"\n",
    "\n",
    "Step 1: Identify if the text contains misleading, exaggerated, or false claims.\n",
    "Step 2: Detect patterns typical of misinformation.\n",
    "Step 3: Output a credibility score from 0 (false) to 100 (credible) and a reason.\n",
    "\n",
    "Respond in this format only:\n",
    "Credibility Score: <score>\n",
    "Reason: <brief reason>\n",
    "\"\"\"\n",
    "    body = {\n",
    "        \"model\": MODEL,\n",
    "        \"messages\": [{\"role\": \"user\", \"content\": prompt}],\n",
    "        \"temperature\": 0.7\n",
    "    }\n",
    "\n",
    "    response = requests.post(API_URL, headers=headers, json=body)\n",
    "    if response.status_code != 200:\n",
    "        raise Exception(f\"❌ API Error: {response.status_code} - {response.text}\")\n",
    "\n",
    "    content = response.json()['choices'][0]['message']['content']\n",
    "    match = re.search(r\"Credibility Score: (\\d+)\\s*Reason: (.*)\", content, re.DOTALL)\n",
    "    \n",
    "    if match:\n",
    "        score = int(match.group(1))\n",
    "        reason = match.group(2).strip()\n",
    "        return score, reason\n",
    "    else:\n",
    "        return None, \"Couldn't parse response.\"\n",
    "\n",
    "# === TEST ===\n",
    "if __name__ == \"__main__\":\n",
    "    text = \"hannah montana is a real person\"\n",
    "    try:\n",
    "        score, reason = check_credibility(text)\n",
    "        print(f\"\\n🔎 Score: {score}/100\")\n",
    "        print(f\"📝 Reason: {reason}\")\n",
    "    except Exception as e:\n",
    "        print(e)\n"
   ]
  },
  {
   "cell_type": "code",
   "execution_count": null,
   "id": "a1d3b54d-c1e0-465f-9d84-b8049e59dacc",
   "metadata": {},
   "outputs": [],
   "source": []
  },
  {
   "cell_type": "code",
   "execution_count": null,
   "id": "374d27e0-8c5c-4a2e-8708-5aedc6d04f29",
   "metadata": {},
   "outputs": [],
   "source": []
  }
 ],
 "metadata": {
  "kernelspec": {
   "display_name": "Python 3 (ipykernel)",
   "language": "python",
   "name": "python3"
  },
  "language_info": {
   "codemirror_mode": {
    "name": "ipython",
    "version": 3
   },
   "file_extension": ".py",
   "mimetype": "text/x-python",
   "name": "python",
   "nbconvert_exporter": "python",
   "pygments_lexer": "ipython3",
   "version": "3.8.20"
  }
 },
 "nbformat": 4,
 "nbformat_minor": 5
}
