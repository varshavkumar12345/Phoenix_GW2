{
 "cells": [
  {
   "cell_type": "code",
   "execution_count": 4,
   "id": "5ffc46b3-80e0-42a8-8670-110aaa1b8312",
   "metadata": {},
   "outputs": [
    {
     "name": "stdin",
     "output_type": "stream",
     "text": [
      "Enter the news article URL:  https://timesofindia.indiatimes.com/city/bengaluru/such-incidents-happen-in-big-cities-karnataka-minister-g-parameshwaras-shocking-remark-over-bengaluru-womans-molestation/articleshow/120055528.cms\n"
     ]
    },
    {
     "name": "stdout",
     "output_type": "stream",
     "text": [
      "\n",
      "->Extracted Article:\n",
      "NEW DELHI: Karnataka home minister G Parameshwara has come under fire for his comments regarding a recent molestation incident in Bengaluru.The minister downplayed the severity of the incident by stating that such occurrences are common in large cities like Bengaluru, a remark that has been widely criticised for trivialising the crime.\"Incidents like these tend to happen here and there in a big city like this. Whatever legal action needs to be taken will be done in accordance with the law. I hav...\n",
      "\n",
      "=>Score: 85/100\n",
      "Reason: The text appears to be a factual report of an incident and subsequent reactions from officials. It includes specific details such as dates, locations, and quotes from officials, which are typical of credible news reporting. However, without independent verification of the quotes and the incident details, there is a slight margin for error, hence the score is not 100.\n"
     ]
    }
   ],
   "source": [
    "import requests\n",
    "import re\n",
    "from goose3 import Goose\n",
    "\n",
    "MISTRAL_API_KEY = \"e6ojRsfwNwYFzpVQjpHtX8YavnOrIjcI\"\n",
    "MODEL = \"mistral-small-latest\"\n",
    "API_URL = \"https://api.mistral.ai/v1/chat/completions\"\n",
    "\n",
    "headers = {\n",
    "    \"Authorization\": f\"Bearer {MISTRAL_API_KEY}\",\n",
    "    \"Content-Type\": \"application/json\"\n",
    "}\n",
    "\n",
    "def extract_article_from_url(url):\n",
    "    g = Goose()\n",
    "    article = g.extract(url=url)\n",
    "    return article.cleaned_text.strip()\n",
    "\n",
    "def check_credibility(text):\n",
    "    prompt = f\"\"\"\n",
    "You are a misinformation detection expert.\n",
    "\n",
    "Analyze the following online content for credibility:\n",
    "\\\"\\\"\\\"{text}\\\"\\\"\\\"\n",
    "\n",
    "Step 1: Identify if the text contains misleading, exaggerated, or false claims.\n",
    "Step 2: Detect patterns typical of misinformation.\n",
    "Step 3: Output a credibility score from 0 (false) to 100 (credible) and a reason.\n",
    "\n",
    "Respond in this format only:\n",
    "Credibility Score: <score>\n",
    "Reason: <brief reason>\n",
    "\"\"\"\n",
    "    body = {\n",
    "        \"model\": MODEL,\n",
    "        \"messages\": [{\"role\": \"user\", \"content\": prompt}],\n",
    "        \"temperature\": 0.7\n",
    "    }\n",
    "\n",
    "    response = requests.post(API_URL, headers=headers, json=body)\n",
    "    if response.status_code != 200:\n",
    "        raise Exception(f\"API Error: {response.status_code} - {response.text}\")\n",
    "\n",
    "    content = response.json()['choices'][0]['message']['content']\n",
    "    match = re.search(r\"Credibility Score: (\\d+)\\s*Reason: (.*)\", content, re.DOTALL)\n",
    "\n",
    "    if match:\n",
    "        score = int(match.group(1))\n",
    "        reason = match.group(2).strip()\n",
    "        return score, reason\n",
    "    else:\n",
    "        return None, \"Couldn't parse response.\"\n",
    "\n",
    "# === MAIN ===\n",
    "if __name__ == \"__main__\":\n",
    "    url = input(\"Enter the news article URL: \")\n",
    "    try:\n",
    "        article_text = extract_article_from_url(url)\n",
    "        print(f\"\\n->Extracted Article:\\n{article_text[:500]}...\")  # Optional preview\n",
    "        score, reason = check_credibility(article_text)\n",
    "        print(f\"\\n=>Score: {score}/100\")\n",
    "        print(f\"Reason: {reason}\")\n",
    "    except Exception as e:\n",
    "        print(f\"Error: {e}\")\n"
   ]
  },
  {
   "cell_type": "code",
   "execution_count": null,
   "id": "c270e54c-5cc5-4302-a9ab-0ffe072f0c89",
   "metadata": {},
   "outputs": [],
   "source": []
  }
 ],
 "metadata": {
  "kernelspec": {
   "display_name": "Python 3 (ipykernel)",
   "language": "python",
   "name": "python3"
  },
  "language_info": {
   "codemirror_mode": {
    "name": "ipython",
    "version": 3
   },
   "file_extension": ".py",
   "mimetype": "text/x-python",
   "name": "python",
   "nbconvert_exporter": "python",
   "pygments_lexer": "ipython3",
   "version": "3.8.20"
  }
 },
 "nbformat": 4,
 "nbformat_minor": 5
}
